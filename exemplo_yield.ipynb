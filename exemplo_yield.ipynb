{
 "cells": [
  {
   "cell_type": "markdown",
   "id": "11aceed2",
   "metadata": {},
   "source": [
    "## Exemplo yield\n"
   ]
  },
  {
   "cell_type": "code",
   "execution_count": 12,
   "id": "9188d30e",
   "metadata": {},
   "outputs": [],
   "source": [
    "def numeros():\n",
    "    yield 10\n",
    "    print('devolvi 10')\n",
    "    print('e vou dar uma paradinha...')\n",
    "    yield 15\n",
    "    yield 30\n",
    "    print(\"os próximos vão ser maiores!\")\n",
    "    yield 106\n",
    "    yield 210"
   ]
  },
  {
   "cell_type": "code",
   "execution_count": 13,
   "id": "60418405",
   "metadata": {},
   "outputs": [],
   "source": [
    "n = numeros()\n"
   ]
  },
  {
   "cell_type": "code",
   "execution_count": 14,
   "id": "f5708a7b",
   "metadata": {},
   "outputs": [
    {
     "data": {
      "text/plain": [
       "10"
      ]
     },
     "execution_count": 14,
     "metadata": {},
     "output_type": "execute_result"
    }
   ],
   "source": [
    "next(n)"
   ]
  },
  {
   "cell_type": "code",
   "execution_count": 15,
   "id": "a03ea101",
   "metadata": {},
   "outputs": [
    {
     "name": "stdout",
     "output_type": "stream",
     "text": [
      "10\n",
      "devolvi 10\n",
      "e vou dar uma paradinha...\n",
      "15\n",
      "30\n",
      "os próximos vão ser maiores!\n",
      "106\n",
      "210\n"
     ]
    }
   ],
   "source": [
    "for i in numeros():\n",
    "    print(i)"
   ]
  }
 ],
 "metadata": {
  "kernelspec": {
   "display_name": "Python 3",
   "language": "python",
   "name": "python3"
  },
  "language_info": {
   "codemirror_mode": {
    "name": "ipython",
    "version": 3
   },
   "file_extension": ".py",
   "mimetype": "text/x-python",
   "name": "python",
   "nbconvert_exporter": "python",
   "pygments_lexer": "ipython3",
   "version": "3.12.6"
  }
 },
 "nbformat": 4,
 "nbformat_minor": 5
}
