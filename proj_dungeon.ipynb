{
 "cells": [
  {
   "cell_type": "markdown",
   "id": "bd219b46",
   "metadata": {},
   "source": [
    "# Projeto Dungeon\n"
   ]
  },
  {
   "cell_type": "code",
   "execution_count": null,
   "id": "7f9ac834",
   "metadata": {},
   "outputs": [],
   "source": [
    "dungeon = Dungeon(personagem=\"Arqueiro\", mapa=(8,8))\n"
   ]
  },
  {
   "cell_type": "code",
   "execution_count": null,
   "id": "e95b1b82",
   "metadata": {},
   "outputs": [],
   "source": [
    "\n",
    "arqueiro = Personagem(\"Flecha Feroz da Alsácia\")\n",
    "mapa = Mapa(10, 8)\n",
    "\n",
    "# Hall - Corredor\n",
    "#          Sala\n",
    "\n",
    "mapa.add_cena(Cena(\"Hall de Entrada\"), 1, 1)\n",
    "mapa.add_cena(Cena(\"Corredor principal\"), 1, 2)\n",
    "mapa.add_cena(Cena(\"Sala\"), 2,2)\n",
    "\n",
    "# O mapa coloca o jogador na cena que está na casa 1,1\n",
    "mapa.put_personagem(arqueiro, 1, 1)\n",
    "\n",
    "# Movimentar jogador\n",
    "\n",
    "arqueiro.andar_leste()\n",
    "arqueiro.andar_sul()\n",
    "\n",
    "\n",
    "if arqueiro.sala_atual() == \"Sala\":\n",
    "    print(\"passou no teste\")\n",
    "else:\n",
    "    print(\"falhou\")\n",
    "\n",
    "\n",
    "\n"
   ]
  },
  {
   "cell_type": "code",
   "execution_count": null,
   "id": "2a878e1e",
   "metadata": {},
   "outputs": [],
   "source": [
    "arqueiro = Personagem(\"Flecha Veloz\")\n",
    "\n",
    "if arqueiro.nome == \"Flecha Veloz\":\n",
    "    print(\"Passou no teste\")\n",
    "else:\n",
    "    print(\"Falhou\")"
   ]
  },
  {
   "cell_type": "code",
   "execution_count": null,
   "id": "28348f3c",
   "metadata": {},
   "outputs": [],
   "source": [
    "def test_criar_personagem(nome_personagem):\n",
    "    arqueiro = Personagem(nome_personagem)\n",
    "\n",
    "    if arqueiro.nome == nome_personagem:\n",
    "        print(\"Passou no teste\")\n",
    "    else:\n",
    "        print(\"Falhou\")"
   ]
  },
  {
   "cell_type": "code",
   "execution_count": null,
   "id": "00cbb76a",
   "metadata": {},
   "outputs": [],
   "source": [
    "# Rodando teste\n",
    "\n",
    "test_criar_personagem(\"Flecha Veloz\")\n",
    "test_criar_personagem(\"\")\n",
    "test_criar_personagem(0)\n",
    "test_criar_personagem(\"sdlkfjsdlkfjsd\")\n"
   ]
  },
  {
   "cell_type": "markdown",
   "id": "ac232871",
   "metadata": {},
   "source": [
    "## Contratos\n"
   ]
  },
  {
   "cell_type": "code",
   "execution_count": null,
   "id": "c777a5aa",
   "metadata": {},
   "outputs": [],
   "source": [
    "\n",
    "#garantias: a, b sempre sejam numeros\n",
    "#            retorno será sempre um numero\n",
    "def somar(a, b):\n",
    "    pass\n",
    "\n"
   ]
  }
 ],
 "metadata": {
  "kernelspec": {
   "display_name": "Python 3",
   "language": "python",
   "name": "python3"
  },
  "language_info": {
   "name": "python",
   "version": "3.12.6"
  }
 },
 "nbformat": 4,
 "nbformat_minor": 5
}
